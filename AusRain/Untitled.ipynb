{
 "cells": [
  {
   "cell_type": "code",
   "execution_count": 3,
   "metadata": {},
   "outputs": [],
   "source": [
    "import numpy as np\n",
    "import matplotlib.pyplot as plt\n",
    "\n",
    "import tensorflow as tf\n",
    "import tensorflow.keras as keras\n",
    "\n",
    "import pandas as pd"
   ]
  },
  {
   "cell_type": "code",
   "execution_count": 4,
   "metadata": {},
   "outputs": [
    {
     "name": "stdout",
     "output_type": "stream",
     "text": [
      "[0. 0. 0. 0. 0. 0. 0. 0. 0. 0. 0. 0. 0. 0. 0. 0. 0. 0. 0. 0. 0. 0. 0. 0.\n",
      " 0. 0. 0. 0. 0. 0. 0. 0. 0. 0. 0. 0. 0. 0. 0. 0. 0. 0. 0. 0. 0. 0. 0. 0.\n",
      " 0. 0. 0. 0. 0. 0. 0. 0. 0. 0. 0. 0. 0. 0. 0. 0. 0. 0. 0. 0. 0. 0. 0. 0.\n",
      " 0. 0. 0. 0. 0. 0. 0. 0. 0. 0. 0. 0. 0. 0. 0. 0. 0. 0. 0. 0. 0. 0. 0. 0.\n",
      " 0. 0. 0. 0.]\n"
     ]
    }
   ],
   "source": [
    "dataFrame = pd.read_csv(\"weatherAUS.csv\")\n",
    "\n",
    "# Print headers\n",
    "#print(dataFrame.columns.values)\n",
    "\n",
    "# Cut off first and last point\n",
    "dataFrame = dataFrame.iloc[1:-1]\n",
    "\n",
    "#print(dataFrame)\n",
    "\n",
    "numDataPoints = len(dataFrame)\n",
    "#print(numDataPoints)\n",
    "\n",
    "# Increase this as I process more of the data\n",
    "numTrainingParameters = 1\n",
    "trainingInput = np.zeros([numTrainingParameters, numDataPoints])\n",
    "\n",
    "# Getting the output is pretty easy\n",
    "trainingOutput = np.zeros(numDataPoints, dtype='double')\n",
    "dataFrame[dataFrame[\"RainTomorrow\"] == \"Yes\"] = 1\n",
    "dataFrame[dataFrame[\"RainTomorrow\"] == \"No\"] = 0\n",
    "dataFrame[not isinstance(dataFrame[\"RainTomorrow\"], int)] = 0\n",
    "\n",
    "trainingOutput[:] = dataFrame[\"RainTomorrow\"]\n",
    "trainingOutput[not isinstance(trainingOutput, np.double)] = 0\n",
    "print(trainingOutput[0:100])"
   ]
  },
  {
   "cell_type": "code",
   "execution_count": null,
   "metadata": {},
   "outputs": [],
   "source": []
  },
  {
   "cell_type": "code",
   "execution_count": null,
   "metadata": {},
   "outputs": [],
   "source": []
  }
 ],
 "metadata": {
  "kernelspec": {
   "display_name": "Python 3",
   "language": "python",
   "name": "python3"
  },
  "language_info": {
   "codemirror_mode": {
    "name": "ipython",
    "version": 3
   },
   "file_extension": ".py",
   "mimetype": "text/x-python",
   "name": "python",
   "nbconvert_exporter": "python",
   "pygments_lexer": "ipython3",
   "version": "3.9.1"
  }
 },
 "nbformat": 4,
 "nbformat_minor": 4
}
